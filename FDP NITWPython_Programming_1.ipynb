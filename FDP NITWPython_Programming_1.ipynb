{
  "nbformat": 4,
  "nbformat_minor": 0,
  "metadata": {
    "kernelspec": {
      "display_name": "Python 3",
      "language": "python",
      "name": "python3"
    },
    "language_info": {
      "codemirror_mode": {
        "name": "ipython",
        "version": 3
      },
      "file_extension": ".py",
      "mimetype": "text/x-python",
      "name": "python",
      "nbconvert_exporter": "python",
      "pygments_lexer": "ipython3",
      "version": "3.6.4"
    },
    "colab": {
      "name": "Python-Programming-1.ipynb",
      "provenance": [],
      "collapsed_sections": [
        "3RVAjogV8gsg",
        "A_QQ5AapPCek",
        "DNCV9GlccP1p"
      ],
      "toc_visible": true,
      "include_colab_link": true
    }
  },
  "cells": [
    {
      "cell_type": "markdown",
      "metadata": {
        "id": "view-in-github",
        "colab_type": "text"
      },
      "source": [
        "<a href=\"https://colab.research.google.com/github/swetharamana/Machine-Learning-with-Python/blob/master/FDP%20NITWPython_Programming_1.ipynb\" target=\"_parent\"><img src=\"https://colab.research.google.com/assets/colab-badge.svg\" alt=\"Open In Colab\"/></a>"
      ]
    },
    {
      "cell_type": "markdown",
      "metadata": {
        "id": "TJFbs3OL77E4",
        "colab_type": "text"
      },
      "source": [
        "# Python Starts Here"
      ]
    },
    {
      "cell_type": "code",
      "metadata": {
        "id": "FnBPVIt3PBrE",
        "colab_type": "code",
        "colab": {
          "base_uri": "https://localhost:8080/",
          "height": 34
        },
        "outputId": "b659a95f-2bb6-4157-d7a6-ec0cdfdc3da6"
      },
      "source": [
        "print('Hello World')"
      ],
      "execution_count": null,
      "outputs": [
        {
          "output_type": "stream",
          "text": [
            "Hello World\n"
          ],
          "name": "stdout"
        }
      ]
    },
    {
      "cell_type": "code",
      "metadata": {
        "id": "7jEeoM2zPBrd",
        "colab_type": "code",
        "colab": {}
      },
      "source": [
        "print(\"CS-533\")"
      ],
      "execution_count": null,
      "outputs": []
    },
    {
      "cell_type": "code",
      "metadata": {
        "id": "KnFM_vXbPBr4",
        "colab_type": "code",
        "colab": {}
      },
      "source": [
        "print('I like \"MIB4\"')\n",
        "print(\"I like 'MIB4'\")\n",
        "# print('\"CS-533\"')\n",
        "#print('Can't do this')\n",
        "print(\"Can't do this?\")\n"
      ],
      "execution_count": null,
      "outputs": []
    },
    {
      "cell_type": "code",
      "metadata": {
        "id": "74bi1nmembFO",
        "colab_type": "code",
        "colab": {}
      },
      "source": [
        "# Printing multiple type of data\n",
        "print('can do this',5)\n",
        "print('cannot do this:'+5)"
      ],
      "execution_count": null,
      "outputs": []
    },
    {
      "cell_type": "code",
      "metadata": {
        "id": "AoqAlSHsktEd",
        "colab_type": "code",
        "colab": {
          "base_uri": "https://localhost:8080/",
          "height": 52
        },
        "outputId": "ed737ddb-ff32-4683-f57b-311e1c0be2c8"
      },
      "source": [
        "# Code spanning to more than one line...\n",
        "print(\"Hi How are you?\")\n",
        "print(\"Hi \\\n",
        "How are you?\")\n",
        "\n"
      ],
      "execution_count": null,
      "outputs": [
        {
          "output_type": "stream",
          "text": [
            "Hi How are you?\n",
            "Hi How are you?\n"
          ],
          "name": "stdout"
        }
      ]
    },
    {
      "cell_type": "markdown",
      "metadata": {
        "id": "KzNzV8bb8QdH",
        "colab_type": "text"
      },
      "source": [
        "# Variables in Python"
      ]
    },
    {
      "cell_type": "code",
      "metadata": {
        "id": "OjmlgDgdPCOD",
        "colab_type": "code",
        "colab": {}
      },
      "source": [
        "# Using Variables in code\n",
        "\n",
        "var1 = 20\n",
        "print(var1)\n",
        "print(type(var1))"
      ],
      "execution_count": null,
      "outputs": []
    },
    {
      "cell_type": "code",
      "metadata": {
        "id": "1ZVUzor5PCON",
        "colab_type": "code",
        "colab": {}
      },
      "source": [
        "var2 = 34\n",
        "print(var2+45)\n",
        "print('abcd'+'45')\n",
        "#print ('abcd'+45)"
      ],
      "execution_count": null,
      "outputs": []
    },
    {
      "cell_type": "code",
      "metadata": {
        "id": "XDXL-N9fPCOW",
        "colab_type": "code",
        "colab": {}
      },
      "source": [
        "var3 = 'text'\n",
        "print(len(var3))"
      ],
      "execution_count": null,
      "outputs": []
    },
    {
      "cell_type": "code",
      "metadata": {
        "id": "Hkzrt1kUPCO2",
        "colab_type": "code",
        "colab": {}
      },
      "source": [
        "a, b, c = 1, 2, \"john\"\n",
        "print(a,b,c)"
      ],
      "execution_count": null,
      "outputs": []
    },
    {
      "cell_type": "code",
      "metadata": {
        "id": "izlF8B3mPCPg",
        "colab_type": "code",
        "colab": {}
      },
      "source": [
        "a1 =a2 = a3 = a4 =9\n",
        "print(a2)"
      ],
      "execution_count": null,
      "outputs": []
    },
    {
      "cell_type": "code",
      "metadata": {
        "id": "MSH03g45PCcl",
        "colab_type": "code",
        "colab": {}
      },
      "source": [
        "# swaping made easy\n",
        "\n",
        "val1 =90 ; val2 =34\n",
        "print(val1,'-----',val2)\n",
        "\n",
        "val1,val2 = val2,val1\n",
        "print(val1,'-----',val2)\n"
      ],
      "execution_count": null,
      "outputs": []
    },
    {
      "cell_type": "code",
      "metadata": {
        "id": "xecZ2921PCfL",
        "colab_type": "code",
        "colab": {
          "base_uri": "https://localhost:8080/",
          "height": 52
        },
        "outputId": "ac309258-25a8-46c8-f4ed-0d7baf918da9"
      },
      "source": [
        "#Printing with Parameters - formatted output\n",
        "name = \"Zubin\"\n",
        "age = 34\n",
        "print (\"My name is %s and weight is %d kg!\" % ('Zubin', 34)) \n",
        "print(\"I just printed my name as {0} and weight as {1}\".format('Zubin', 34))  # Use of the format method\n",
        "print(f\"I again just printed my name as {name} and weight as {age}\")          # Use of f-strings"
      ],
      "execution_count": null,
      "outputs": [
        {
          "output_type": "stream",
          "text": [
            "My name is Zubin and weight is 34 kg!\n",
            "I just printed my name as Zubin and weight as 34\n"
          ],
          "name": "stdout"
        }
      ]
    },
    {
      "cell_type": "code",
      "metadata": {
        "id": "2utgBOiaPCc8",
        "colab_type": "code",
        "colab": {
          "base_uri": "https://localhost:8080/",
          "height": 34
        },
        "outputId": "1790ce9d-19b7-4bf8-989f-3606d44d41b0"
      },
      "source": [
        "#  int is not a keyword in python\n",
        "int = 9\n",
        "print(int)"
      ],
      "execution_count": null,
      "outputs": [
        {
          "output_type": "stream",
          "text": [
            "9\n"
          ],
          "name": "stdout"
        }
      ]
    },
    {
      "cell_type": "code",
      "metadata": {
        "id": "CkGJKkIRHQf_",
        "colab_type": "code",
        "colab": {
          "base_uri": "https://localhost:8080/",
          "height": 54
        },
        "outputId": "7b2c91bf-92c8-4233-af3b-0742f3f615aa"
      },
      "source": [
        "import keyword\n",
        "print(keyword.kwlist)"
      ],
      "execution_count": null,
      "outputs": [
        {
          "output_type": "stream",
          "text": [
            "['False', 'None', 'True', 'and', 'as', 'assert', 'break', 'class', 'continue', 'def', 'del', 'elif', 'else', 'except', 'finally', 'for', 'from', 'global', 'if', 'import', 'in', 'is', 'lambda', 'nonlocal', 'not', 'or', 'pass', 'raise', 'return', 'try', 'while', 'with', 'yield']\n"
          ],
          "name": "stdout"
        }
      ]
    },
    {
      "cell_type": "markdown",
      "metadata": {
        "id": "t_G0VIkINGJ_",
        "colab_type": "text"
      },
      "source": [
        ""
      ]
    },
    {
      "cell_type": "code",
      "metadata": {
        "id": "BgLiZVrqPCdo",
        "colab_type": "code",
        "colab": {
          "base_uri": "https://localhost:8080/",
          "height": 68
        },
        "outputId": "7586a5f8-dff7-49e8-aca8-623e71cfc693"
      },
      "source": [
        "# Boolean Variables\n",
        "var4 = not 0\n",
        "print(var4)\n",
        "print(type(var4))\n",
        "\n",
        "var5 = False\n",
        "print(var4 or var5)"
      ],
      "execution_count": null,
      "outputs": [
        {
          "output_type": "stream",
          "text": [
            "True\n",
            "<class 'bool'>\n",
            "True\n"
          ],
          "name": "stdout"
        }
      ]
    },
    {
      "cell_type": "markdown",
      "metadata": {
        "id": "3RVAjogV8gsg",
        "colab_type": "text"
      },
      "source": [
        "# Basic Control Flow Constructs in Python"
      ]
    },
    {
      "cell_type": "code",
      "metadata": {
        "id": "bxoer4YgPCd3",
        "colab_type": "code",
        "colab": {}
      },
      "source": [
        "# Simple-if: If condition A then do task#1\n",
        "# Boolean choice-if: If condition A then do task#1, else do task#2\n",
        "# Multi-choice-if: If condition A then do task#1, else If condition B then do task#2, else if condition C then do task#3, ..., else do task#n \n",
        "\n",
        "if(False == False):\n",
        "    print('if block')\n",
        "    print('one more') \n",
        "   \n",
        "else:\n",
        "    print('else block')"
      ],
      "execution_count": null,
      "outputs": []
    },
    {
      "cell_type": "code",
      "metadata": {
        "id": "pZuCFS26PCeF",
        "colab_type": "code",
        "colab": {}
      },
      "source": [
        "num = -9\n",
        "if num > 0:\n",
        "    print(\"Positive number\")\n",
        "elif num == 0:\n",
        "    print(\"Zero\")\n",
        "else:\n",
        "    print(\"Negative number\")"
      ],
      "execution_count": null,
      "outputs": []
    },
    {
      "cell_type": "code",
      "metadata": {
        "id": "BVrW-8X4xVXx",
        "colab_type": "code",
        "colab": {
          "base_uri": "https://localhost:8080/",
          "height": 34
        },
        "outputId": "63c1152d-b19c-42bc-d091-a44aec1628e3"
      },
      "source": [
        "# A ssmall code to test which of three number is the greatest\n",
        "a=1\n",
        "b=2\n",
        "c=3\n",
        "if(a>b):\n",
        "  if(a>c):\n",
        "    print ('%d is the greatest' %a)\n",
        "  else:\n",
        "    print ('%d is greatest' %c)\n",
        "else:\n",
        "  if(b>c):\n",
        "    print ('%d is the biggest' %b)\n",
        "  else: \n",
        "    print ('%d is greatest' %c)"
      ],
      "execution_count": null,
      "outputs": [
        {
          "output_type": "stream",
          "text": [
            "3 is greatest\n"
          ],
          "name": "stdout"
        }
      ]
    },
    {
      "cell_type": "code",
      "metadata": {
        "id": "qGXuY9rj3uZE",
        "colab_type": "code",
        "colab": {}
      },
      "source": [
        "# Taking inputs from user and using functions for modular code...\n",
        "\n",
        "a = input(\"Enter your value: \") \n",
        "print(a)\n",
        "b = input(\"Enter your value: \") \n",
        "print(b) \n",
        "c = input(\"Enter your value: \") \n",
        "print(c) \n",
        "\n",
        "def maximum(a,b,c):\n",
        "  if(a>b):\n",
        "    if(a>c):\n",
        "      return a\n",
        "    else:\n",
        "      return c\n",
        "  else:\n",
        "    if(b>c):\n",
        "      return b\n",
        "    else: \n",
        "      return c\n",
        "\n",
        "max = maximum(a,b,c)\n",
        "print(max)"
      ],
      "execution_count": null,
      "outputs": []
    },
    {
      "cell_type": "code",
      "metadata": {
        "id": "YhD8c-bDYe6G",
        "colab_type": "code",
        "colab": {}
      },
      "source": [
        "# Code to check input type in Python \n",
        "  \n",
        "number = input (\"Enter number :\") \n",
        "print(number) \n",
        "name = input(\"Enter name : \") \n",
        "print(name) \n",
        "  \n",
        "# Printing type of input value \n",
        "print (\"type of number\", type(number)) \n",
        "print (\"type of name\", type(name)) "
      ],
      "execution_count": null,
      "outputs": []
    },
    {
      "cell_type": "code",
      "metadata": {
        "id": "Eks3q-j2ZbrL",
        "colab_type": "code",
        "colab": {
          "base_uri": "https://localhost:8080/",
          "height": 68
        },
        "outputId": "6910d5a8-d115-473e-f8d4-d7f62519c41d"
      },
      "source": [
        "# Typecasting suitably...\n",
        "\n",
        "input1 = input()\n",
        "#num1 = int(input1)\n",
        "input2 = input()\n",
        "#num2 = int(input2)\n",
        "\n",
        "# printing the sum in integer \n",
        "#print(num1 + num2) \n",
        "print(input1 + input2) "
      ],
      "execution_count": null,
      "outputs": [
        {
          "output_type": "stream",
          "text": [
            "67\n",
            "9\n",
            "679\n"
          ],
          "name": "stdout"
        }
      ]
    },
    {
      "cell_type": "code",
      "metadata": {
        "id": "K0165SGyPCeP",
        "colab_type": "code",
        "colab": {}
      },
      "source": [
        "# Looping constructs in Python\n",
        "# for loop\n",
        "\n",
        "for itr in range(0,10,2):\n",
        "#for itr in range(10,0,-1):\n",
        "    print('loop', itr)"
      ],
      "execution_count": null,
      "outputs": []
    },
    {
      "cell_type": "code",
      "metadata": {
        "id": "aTkkjeXgPCeY",
        "colab_type": "code",
        "colab": {}
      },
      "source": [
        "# while loop\n",
        "value = 4\n",
        "while value<10:\n",
        "    print(value)\n",
        "    value+=1"
      ],
      "execution_count": null,
      "outputs": []
    },
    {
      "cell_type": "code",
      "metadata": {
        "id": "dWF5EExCUQKZ",
        "colab_type": "code",
        "colab": {}
      },
      "source": [
        "# do-while loop in Python\n",
        "# do {  \n",
        "#     //statement  \n",
        "#} while (condition); \n",
        "\n",
        "i = 1  \n",
        "while True:  \n",
        "    print(i)  \n",
        "    i = i + 1  \n",
        "    if(i > 5):  \n",
        "        break  "
      ],
      "execution_count": null,
      "outputs": []
    },
    {
      "cell_type": "code",
      "metadata": {
        "id": "o-NOnHLRVA9n",
        "colab_type": "code",
        "colab": {
          "base_uri": "https://localhost:8080/",
          "height": 51
        },
        "outputId": "bc0dff84-96d7-4c9c-edb3-9a2f49f361b2"
      },
      "source": [
        "# Abnormal exit from loops: 'break' and 'continue' statements in loops\n",
        "\n",
        "i = 0\n",
        "while i < 6:\n",
        "  i += 1\n",
        "  if i == 3:\n",
        "    break\n",
        "  print(i)"
      ],
      "execution_count": null,
      "outputs": [
        {
          "output_type": "stream",
          "text": [
            "1\n",
            "2\n"
          ],
          "name": "stdout"
        }
      ]
    },
    {
      "cell_type": "markdown",
      "metadata": {
        "id": "A_QQ5AapPCek",
        "colab_type": "text"
      },
      "source": [
        "# Dealing with Strings"
      ]
    },
    {
      "cell_type": "code",
      "metadata": {
        "id": "pR6D--pjPCen",
        "colab_type": "code",
        "colab": {
          "base_uri": "https://localhost:8080/",
          "height": 52
        },
        "outputId": "cc02dbf1-f483-45f7-acd5-9bd78641ff2b"
      },
      "source": [
        "var11 = 'testing'\n",
        "var22 = \"i am running\"\n",
        "# you can write comment here \n",
        "print (\"var11[0]: \", var11[0])\n",
        "print (\"var22[1:6]: >\", var22[1:6],\"<\")"
      ],
      "execution_count": null,
      "outputs": [
        {
          "output_type": "stream",
          "text": [
            "var11[0]:  t\n",
            "var22[1:6]: >  am r <\n"
          ],
          "name": "stdout"
        }
      ]
    },
    {
      "cell_type": "code",
      "metadata": {
        "id": "AkUOKvZm1wtq",
        "colab_type": "code",
        "colab": {}
      },
      "source": [
        "# Strings are immutable\n",
        "mystring = '1234'\n",
        "print(mystring)\n",
        "mystring[2] = ‘B’"
      ],
      "execution_count": null,
      "outputs": []
    },
    {
      "cell_type": "code",
      "metadata": {
        "id": "BdAO-BeSPCfV",
        "colab_type": "code",
        "colab": {}
      },
      "source": [
        "str1 = \"hello\"\n",
        "print(str1*4)\n",
        "#print(str1/4)"
      ],
      "execution_count": null,
      "outputs": []
    },
    {
      "cell_type": "markdown",
      "metadata": {
        "id": "UZ69q7bZ9I8Z",
        "colab_type": "text"
      },
      "source": [
        "# Dealing with a List of Data - List, Tuple, Dictionary"
      ]
    },
    {
      "cell_type": "code",
      "metadata": {
        "id": "xvQ8Oj4lPCfd",
        "colab_type": "code",
        "colab": {}
      },
      "source": [
        "list = [ 'abcd', 786 , 2.23, 'john', 70.2 ]\n",
        "tinylist = [123, 'john']\n",
        "\n",
        "print (list)          \n",
        "print (list[-2])     \n",
        "print (list[1:3])     \n",
        "print (list[2:])      \n",
        "print (tinylist * 2)  \n",
        "print (list + tinylist)"
      ],
      "execution_count": null,
      "outputs": []
    },
    {
      "cell_type": "code",
      "metadata": {
        "id": "93BOl1owPCfm",
        "colab_type": "code",
        "colab": {}
      },
      "source": [
        "list1 = ['physics', 'chemistry', 1997, 2000]\n",
        "\n",
        "print (list1)\n",
        "del list1[2]\n",
        "print (\"After deleting value at index 2 : \", list1)"
      ],
      "execution_count": null,
      "outputs": []
    },
    {
      "cell_type": "code",
      "metadata": {
        "id": "SahtGboAPCfv",
        "colab_type": "code",
        "colab": {}
      },
      "source": [
        "a1 = [1,2,3,4,5,9]\n",
        "a2 = [2,4,512,1,3]\n",
        "print(a1+a2)"
      ],
      "execution_count": null,
      "outputs": []
    },
    {
      "cell_type": "code",
      "metadata": {
        "id": "eJ8U1ZT4PCgI",
        "colab_type": "code",
        "colab": {
          "base_uri": "https://localhost:8080/",
          "height": 53
        },
        "outputId": "406383a7-ab99-467c-e9a5-ba8c692cd4a2"
      },
      "source": [
        "tuple1 = ('cs533','cs534', 'cs615')\n",
        "print(tuple1)\n",
        "tuple1[2]"
      ],
      "execution_count": null,
      "outputs": [
        {
          "output_type": "stream",
          "text": [
            "('cs533', 'cs534', 'cs615')\n"
          ],
          "name": "stdout"
        },
        {
          "output_type": "execute_result",
          "data": {
            "application/vnd.google.colaboratory.intrinsic+json": {
              "type": "string"
            },
            "text/plain": [
              "'cs615'"
            ]
          },
          "metadata": {
            "tags": []
          },
          "execution_count": 4
        }
      ]
    },
    {
      "cell_type": "code",
      "metadata": {
        "id": "gN-zSy8RPCgS",
        "colab_type": "code",
        "colab": {}
      },
      "source": [
        "#tuple1[3]='EM090'\n"
      ],
      "execution_count": null,
      "outputs": []
    },
    {
      "cell_type": "code",
      "metadata": {
        "id": "pjlgR-XxPCgp",
        "colab_type": "code",
        "colab": {}
      },
      "source": [
        "del tuple1\n",
        "print(tuple1)"
      ],
      "execution_count": null,
      "outputs": []
    },
    {
      "cell_type": "code",
      "metadata": {
        "id": "8EpTLmG8PCjY",
        "colab_type": "code",
        "colab": {
          "base_uri": "https://localhost:8080/",
          "height": 52
        },
        "outputId": "e2a80110-d7f9-48d4-db3c-9dea49f3dd18"
      },
      "source": [
        "dict = {'Name': 'Zara', 'Age': 7, 'Class': 'First'}\n",
        "print (\"dict['Name']: \", dict['Name'])\n",
        "print (\"dict['Age']: \", dict['Age'])"
      ],
      "execution_count": null,
      "outputs": [
        {
          "output_type": "stream",
          "text": [
            "dict['Name']:  Zara\n",
            "dict['Age']:  7\n"
          ],
          "name": "stdout"
        }
      ]
    },
    {
      "cell_type": "code",
      "metadata": {
        "id": "nykB__MQPCk4",
        "colab_type": "code",
        "colab": {}
      },
      "source": [
        "dict['Age'] = 8; \n",
        "dict['School'] = \"DPS School\" \n",
        "\n",
        "print (\"dict['Age']: \", dict['Age'])\n",
        "print (\"dict['School']: \", dict['School'])"
      ],
      "execution_count": null,
      "outputs": []
    },
    {
      "cell_type": "code",
      "metadata": {
        "id": "l8GXKnYiPCk_",
        "colab_type": "code",
        "colab": {
          "base_uri": "https://localhost:8080/",
          "height": 34
        },
        "outputId": "656ea80d-c79d-43ef-b876-4877c2161f18"
      },
      "source": [
        "my_set = {1,2,3,4,3,2}\n",
        "print(my_set)"
      ],
      "execution_count": null,
      "outputs": [
        {
          "output_type": "stream",
          "text": [
            "{1, 2, 3, 4}\n"
          ],
          "name": "stdout"
        }
      ]
    },
    {
      "cell_type": "code",
      "metadata": {
        "id": "6vxL3JXzNq2c",
        "colab_type": "code",
        "colab": {
          "base_uri": "https://localhost:8080/",
          "height": 105
        },
        "outputId": "8c111871-4bfd-49ca-dc14-63d5422014cd"
      },
      "source": [
        "dict1 = {}\n",
        "print(type(dict1))\n",
        "emptyset = set([1,2])\n",
        "print(type(emptyset))\n",
        "print(emptyset)\n",
        "emptyset.add(3)\n",
        "print(emptyset)\n",
        "emptyset.remove(2)\n",
        "print(emptyset)"
      ],
      "execution_count": null,
      "outputs": [
        {
          "output_type": "stream",
          "text": [
            "<class 'dict'>\n",
            "<class 'set'>\n",
            "{1, 2}\n",
            "{1, 2, 3}\n",
            "{1, 3}\n"
          ],
          "name": "stdout"
        }
      ]
    },
    {
      "cell_type": "code",
      "metadata": {
        "id": "6dQy5iWBPCqU",
        "colab_type": "code",
        "colab": {}
      },
      "source": [
        "data = input()\n",
        "print('you entered',data)"
      ],
      "execution_count": null,
      "outputs": []
    },
    {
      "cell_type": "code",
      "metadata": {
        "id": "n0PhhB09PCqd",
        "colab_type": "code",
        "colab": {}
      },
      "source": [
        "data1 = input()\n",
        "print(type(data1))"
      ],
      "execution_count": null,
      "outputs": []
    },
    {
      "cell_type": "code",
      "metadata": {
        "id": "0qQbzauPPCf8",
        "colab_type": "code",
        "colab": {}
      },
      "source": [
        "import numpy as np\n",
        "\n",
        "b1 = np.array([1,2,3,5,5])\n",
        "b2 = np.array([234,54,24,2,3])\n",
        "\n",
        "print(b1+a2)\n",
        "\n",
        "print(b2 * 3)"
      ],
      "execution_count": null,
      "outputs": []
    },
    {
      "cell_type": "markdown",
      "metadata": {
        "id": "XAcNI1U8pjXe",
        "colab_type": "text"
      },
      "source": [
        "# Dealing with Exceptions"
      ]
    },
    {
      "cell_type": "code",
      "metadata": {
        "id": "3l7HS2sWt3MW",
        "colab_type": "code",
        "colab": {
          "base_uri": "https://localhost:8080/",
          "height": 167
        },
        "outputId": "2ab39a83-3a5e-43a3-808b-8ad66e42390f"
      },
      "source": [
        "45/0"
      ],
      "execution_count": null,
      "outputs": [
        {
          "output_type": "error",
          "ename": "ZeroDivisionError",
          "evalue": "ignored",
          "traceback": [
            "\u001b[0;31m---------------------------------------------------------------------------\u001b[0m",
            "\u001b[0;31mZeroDivisionError\u001b[0m                         Traceback (most recent call last)",
            "\u001b[0;32m<ipython-input-29-d2d7491e3159>\u001b[0m in \u001b[0;36m<module>\u001b[0;34m()\u001b[0m\n\u001b[0;32m----> 1\u001b[0;31m \u001b[0;36m45\u001b[0m\u001b[0;34m/\u001b[0m\u001b[0;36m0\u001b[0m\u001b[0;34m\u001b[0m\u001b[0;34m\u001b[0m\u001b[0m\n\u001b[0m",
            "\u001b[0;31mZeroDivisionError\u001b[0m: division by zero"
          ]
        }
      ]
    },
    {
      "cell_type": "code",
      "metadata": {
        "id": "jvg3olUHt6_6",
        "colab_type": "code",
        "colab": {
          "base_uri": "https://localhost:8080/",
          "height": 34
        },
        "outputId": "026dd2a9-b1f7-4658-8cd7-665dfb61a916"
      },
      "source": [
        "try:\n",
        "  45/0\n",
        "except Exception:\n",
        "  print('Exception handled Sucessfully....')"
      ],
      "execution_count": null,
      "outputs": [
        {
          "output_type": "stream",
          "text": [
            "Exception handled Sucessfully....\n"
          ],
          "name": "stdout"
        }
      ]
    },
    {
      "cell_type": "code",
      "metadata": {
        "id": "2u4sz5OXuwFL",
        "colab_type": "code",
        "colab": {
          "base_uri": "https://localhost:8080/",
          "height": 52
        },
        "outputId": "84e85692-638e-4d97-e979-971c6012e075"
      },
      "source": [
        "# Nesting......\n",
        "try:\n",
        "  45/0\n",
        "except Exception:\n",
        "  print('First exception handled Sucessfully....')\n",
        "  try:\n",
        "    tmp_list = [5,745,976,2346]\n",
        "    print(tmp_list[5])\n",
        "  except Exception:\n",
        "    print('Second exception handled Sucessfully....')"
      ],
      "execution_count": null,
      "outputs": [
        {
          "output_type": "stream",
          "text": [
            "First exception handled Sucessfully....\n",
            "Second exception handled Sucessfully....\n"
          ],
          "name": "stdout"
        }
      ]
    },
    {
      "cell_type": "code",
      "metadata": {
        "id": "39E4UZNPuH_7",
        "colab_type": "code",
        "colab": {
          "base_uri": "https://localhost:8080/",
          "height": 52
        },
        "outputId": "083ac678-61b6-43ea-9d81-1e83d97ad54a"
      },
      "source": [
        "# Finally Block always runs...\n",
        "try:\n",
        "  tmp_list = [5,745,976,2346]\n",
        "  print(tmp_list[3])    # try with index > 3\n",
        "except Exception:\n",
        "  print('Except block.....')\n",
        "finally:\n",
        "  print('Finally block....')"
      ],
      "execution_count": null,
      "outputs": [
        {
          "output_type": "stream",
          "text": [
            "2346\n",
            "Finally block....\n"
          ],
          "name": "stdout"
        }
      ]
    },
    {
      "cell_type": "markdown",
      "metadata": {
        "id": "DNCV9GlccP1p",
        "colab_type": "text"
      },
      "source": [
        "# Dealing with External Storage: Files"
      ]
    },
    {
      "cell_type": "code",
      "metadata": {
        "id": "mqF-CSzkPCqk",
        "colab_type": "code",
        "colab": {
          "base_uri": "https://localhost:8080/",
          "height": 35
        },
        "outputId": "2761ec63-72d0-4d8b-d45d-f895bd25cadc"
      },
      "source": [
        "data1 = open('example.txt','r')\n",
        "data1.read()"
      ],
      "execution_count": null,
      "outputs": [
        {
          "output_type": "execute_result",
          "data": {
            "application/vnd.google.colaboratory.intrinsic+json": {
              "type": "string"
            },
            "text/plain": [
              "'I am here\\nWhere are you?'"
            ]
          },
          "metadata": {
            "tags": []
          },
          "execution_count": 22
        }
      ]
    },
    {
      "cell_type": "code",
      "metadata": {
        "id": "0Tql2KvYPCqt",
        "colab_type": "code",
        "colab": {
          "base_uri": "https://localhost:8080/",
          "height": 34
        },
        "outputId": "405752dc-ad32-4a2e-f82d-ac477a57e751"
      },
      "source": [
        "data1 = open('example.txt','r')\n",
        "data1.readlines()"
      ],
      "execution_count": null,
      "outputs": [
        {
          "output_type": "execute_result",
          "data": {
            "text/plain": [
              "['I am here\\n', 'Where are you?']"
            ]
          },
          "metadata": {
            "tags": []
          },
          "execution_count": 23
        }
      ]
    },
    {
      "cell_type": "code",
      "metadata": {
        "id": "DP2nEgl3PCq4",
        "colab_type": "code",
        "colab": {}
      },
      "source": [
        "data1 = open('example.txt','r')\n",
        "data1.readline()\n",
        "#data1.readline()\n",
        "data1.close()"
      ],
      "execution_count": null,
      "outputs": []
    },
    {
      "cell_type": "code",
      "metadata": {
        "id": "wnIm01n8PCrA",
        "colab_type": "code",
        "colab": {}
      },
      "source": [
        "data2 = open('example_write.txt','w')\n",
        "data2.write('example_data_new')\n",
        "data2.flush()\n",
        "data2.close()"
      ],
      "execution_count": null,
      "outputs": []
    },
    {
      "cell_type": "markdown",
      "metadata": {
        "id": "I8Wc_sAE97it",
        "colab_type": "text"
      },
      "source": [
        "# Functions"
      ]
    },
    {
      "cell_type": "code",
      "metadata": {
        "id": "LV4L8FzdPCoa",
        "colab_type": "code",
        "colab": {}
      },
      "source": [
        "def calculateSum(a,b):\n",
        "    return a+b\n",
        "\n",
        "print(calculateSum(234,56))\n",
        "print(calculateSum(34.2,6.4))  \n",
        "print(calculateSum('text1','text2'))"
      ],
      "execution_count": null,
      "outputs": []
    },
    {
      "cell_type": "code",
      "metadata": {
        "id": "_EaUyGbhPCpM",
        "colab_type": "code",
        "colab": {}
      },
      "source": [
        "def fun1():\n",
        "    print('in side function1--')\n",
        "    fun1()\n",
        "fun1()"
      ],
      "execution_count": null,
      "outputs": []
    },
    {
      "cell_type": "code",
      "metadata": {
        "id": "8HTBrTfCPCqN",
        "colab_type": "code",
        "colab": {}
      },
      "source": [
        "\n",
        "def fun1(count):\n",
        "    count = count +1\n",
        "    print('in side function1--')\n",
        "    if count < 10:\n",
        "        fun1(count)\n",
        "        \n",
        "\n",
        "fun1(5)"
      ],
      "execution_count": null,
      "outputs": []
    },
    {
      "cell_type": "code",
      "metadata": {
        "id": "b3bY-VXqXIuR",
        "colab_type": "code",
        "colab": {
          "base_uri": "https://localhost:8080/",
          "height": 325
        },
        "outputId": "4522a4d4-581b-4e26-ef3d-6bf8a829c437"
      },
      "source": [
        "# Implementing 'switch' like statement using a function in Python\n",
        "\n",
        "def week(i):\n",
        "        switcher={\n",
        "                0:'Sunday',\n",
        "                1:'Monday',\n",
        "                2:'Tuesday',\n",
        "                3:'Wednesday',\n",
        "                4:'Thursday',\n",
        "                5:'Friday',\n",
        "                6:'Saturday'\n",
        "             }\n",
        "        #return switcher.get(i,\"Not a valid day of a week\")\n",
        "        return switcher[i]\n",
        "\n",
        "week(7)"
      ],
      "execution_count": null,
      "outputs": [
        {
          "output_type": "error",
          "ename": "KeyError",
          "evalue": "ignored",
          "traceback": [
            "\u001b[0;31m---------------------------------------------------------------------------\u001b[0m",
            "\u001b[0;31mKeyError\u001b[0m                                  Traceback (most recent call last)",
            "\u001b[0;32m<ipython-input-54-d23d9fb34661>\u001b[0m in \u001b[0;36m<module>\u001b[0;34m()\u001b[0m\n\u001b[1;32m     14\u001b[0m         \u001b[0;32mreturn\u001b[0m \u001b[0mswitcher\u001b[0m\u001b[0;34m[\u001b[0m\u001b[0mi\u001b[0m\u001b[0;34m]\u001b[0m\u001b[0;34m\u001b[0m\u001b[0;34m\u001b[0m\u001b[0m\n\u001b[1;32m     15\u001b[0m \u001b[0;34m\u001b[0m\u001b[0m\n\u001b[0;32m---> 16\u001b[0;31m \u001b[0mweek\u001b[0m\u001b[0;34m(\u001b[0m\u001b[0;36m7\u001b[0m\u001b[0;34m)\u001b[0m\u001b[0;34m\u001b[0m\u001b[0;34m\u001b[0m\u001b[0m\n\u001b[0m",
            "\u001b[0;32m<ipython-input-54-d23d9fb34661>\u001b[0m in \u001b[0;36mweek\u001b[0;34m(i)\u001b[0m\n\u001b[1;32m     12\u001b[0m              }\n\u001b[1;32m     13\u001b[0m         \u001b[0;31m#return switcher.get(i,\"Not a valid day of a week\")\u001b[0m\u001b[0;34m\u001b[0m\u001b[0;34m\u001b[0m\u001b[0;34m\u001b[0m\u001b[0m\n\u001b[0;32m---> 14\u001b[0;31m         \u001b[0;32mreturn\u001b[0m \u001b[0mswitcher\u001b[0m\u001b[0;34m[\u001b[0m\u001b[0mi\u001b[0m\u001b[0;34m]\u001b[0m\u001b[0;34m\u001b[0m\u001b[0;34m\u001b[0m\u001b[0m\n\u001b[0m\u001b[1;32m     15\u001b[0m \u001b[0;34m\u001b[0m\u001b[0m\n\u001b[1;32m     16\u001b[0m \u001b[0mweek\u001b[0m\u001b[0;34m(\u001b[0m\u001b[0;36m7\u001b[0m\u001b[0;34m)\u001b[0m\u001b[0;34m\u001b[0m\u001b[0;34m\u001b[0m\u001b[0m\n",
            "\u001b[0;31mKeyError\u001b[0m: 7"
          ]
        }
      ]
    },
    {
      "cell_type": "markdown",
      "metadata": {
        "id": "7KkUSY6zPCe0",
        "colab_type": "text"
      },
      "source": [
        "# Importing Library Functions?"
      ]
    },
    {
      "cell_type": "code",
      "metadata": {
        "id": "24VbjwYjlAOu",
        "colab_type": "code",
        "colab": {
          "base_uri": "https://localhost:8080/",
          "height": 34
        },
        "outputId": "1a0df0b6-3464-44ce-80e1-37f4b717b6b1"
      },
      "source": [
        "!ls"
      ],
      "execution_count": null,
      "outputs": [
        {
          "output_type": "stream",
          "text": [
            "prime.py  __pycache__  sample_data\n"
          ],
          "name": "stdout"
        }
      ]
    },
    {
      "cell_type": "code",
      "metadata": {
        "id": "VArn4vtuDEvx",
        "colab_type": "code",
        "colab": {
          "base_uri": "https://localhost:8080/",
          "height": 34
        },
        "outputId": "8a78d806-61d5-45dc-a68c-5b2d001ac774"
      },
      "source": [
        "import prime\n",
        "print(prime.isPrime(29)) # returns True"
      ],
      "execution_count": null,
      "outputs": [
        {
          "output_type": "stream",
          "text": [
            "True\n"
          ],
          "name": "stdout"
        }
      ]
    },
    {
      "cell_type": "code",
      "metadata": {
        "id": "n4fc0A0TPCN4",
        "colab_type": "code",
        "colab": {
          "base_uri": "https://localhost:8080/",
          "height": 439
        },
        "outputId": "756345b7-527c-4da9-ade0-1bf6b294a6c3"
      },
      "source": [
        "# import examples\n",
        "\n",
        "import time\n",
        "time1 = time.time()\n",
        "print('Current Time is', time.time(), time1)\n",
        "\n",
        "print(time.__doc__)"
      ],
      "execution_count": null,
      "outputs": [
        {
          "output_type": "stream",
          "text": [
            "Current Time is 1595904150.3185527 1595904150.31853\n",
            "This module provides various functions to manipulate time values.\n",
            "\n",
            "There are two standard representations of time.  One is the number\n",
            "of seconds since the Epoch, in UTC (a.k.a. GMT).  It may be an integer\n",
            "or a floating point number (to represent fractions of seconds).\n",
            "The Epoch is system-defined; on Unix, it is generally January 1st, 1970.\n",
            "The actual value can be retrieved by calling gmtime(0).\n",
            "\n",
            "The other representation is a tuple of 9 integers giving local time.\n",
            "The tuple items are:\n",
            "  year (including century, e.g. 1998)\n",
            "  month (1-12)\n",
            "  day (1-31)\n",
            "  hours (0-23)\n",
            "  minutes (0-59)\n",
            "  seconds (0-59)\n",
            "  weekday (0-6, Monday is 0)\n",
            "  Julian day (day in the year, 1-366)\n",
            "  DST (Daylight Savings Time) flag (-1, 0 or 1)\n",
            "If the DST flag is 0, the time is given in the regular time zone;\n",
            "if it is 1, the time is given in the DST time zone;\n",
            "if it is -1, mktime() should guess based on the date and time.\n",
            "\n"
          ],
          "name": "stdout"
        }
      ]
    },
    {
      "cell_type": "code",
      "metadata": {
        "id": "8VQmeExgPCdN",
        "colab_type": "code",
        "colab": {}
      },
      "source": [
        "import keyword\n",
        "print(keyword.kwlist)"
      ],
      "execution_count": null,
      "outputs": []
    }
  ]
}